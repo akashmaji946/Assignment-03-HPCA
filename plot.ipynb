{
 "cells": [
  {
   "cell_type": "code",
   "execution_count": null,
   "metadata": {},
   "outputs": [],
   "source": [
    "import matplotlib.pyplot as plt\n",
    "\n",
    "# Provided data\n",
    "configs = [\n",
    "    [0, 1, 2], [0, 2, 1], [0, 1, 3], [0, 3, 1], [0, 2, 3], [0, 3, 2],\n",
    "    [1, 0, 2], [1, 2, 0], [1, 0, 3], [1, 3, 0], [1, 2, 3], [1, 3, 2],\n",
    "    [2, 0, 1], [2, 1, 0], [2, 0, 3], [2, 3, 0], [2, 1, 3], [2, 3, 1],\n",
    "    [3, 0, 1], [3, 1, 0], [3, 0, 2], [3, 2, 0], [3, 1, 2], [3, 2, 1]\n",
    "]\n",
    "\n",
    "times = [\n",
    "    47.7839195, 37.569915071, 45.290173024, 37.877159679, 49.429825711,\n",
    "    49.477633861, 51.941542068, 37.881950664, 51.466080725, 37.706377113,\n",
    "    51.614030310, 51.587110415, 51.747837242, 47.37437533, 39.770742725,\n",
    "    50.251465529, 37.672093046, 51.802059962, 51.454605675, 47.364540775,\n",
    "    39.553323286\n",
    "]\n",
    "\n",
    "# Creating labels for configs\n",
    "config_labels = [str(config) for config in configs]\n",
    "\n",
    "# Plotting the graph\n",
    "plt.figure(figsize=(14, 6))\n",
    "plt.bar(config_labels, times, color='lightblue')\n",
    "plt.xticks(rotation=90)\n",
    "plt.xlabel(\"Configs\")\n",
    "plt.ylabel(\"Time (seconds)\")\n",
    "plt.title(\"Execution Times for Different Configs\")\n",
    "plt.tight_layout()\n",
    "\n",
    "plt.show()\n"
   ]
  }
 ],
 "metadata": {
  "language_info": {
   "name": "python"
  }
 },
 "nbformat": 4,
 "nbformat_minor": 2
}
